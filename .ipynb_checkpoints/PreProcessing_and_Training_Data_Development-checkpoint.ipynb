{
 "cells": [
  {
   "cell_type": "code",
   "execution_count": 1,
   "id": "a963040b",
   "metadata": {},
   "outputs": [],
   "source": [
    "#importing necessary libraries\n",
    "import numpy as np\n",
    "import pandas as pd\n",
    "import seaborn as sns\n",
    "import matplotlib.pyplot as plt\n",
    "\n",
    "from sklearn.pipeline import Pipeline\n",
    "from sklearn.metrics import r2_score, mean_absolute_error\n",
    "from sklearn.model_selection import train_test_split\n",
    "\n",
    "from sklearn.linear_model import LinearRegression\n",
    "from sklearn import linear_model\n",
    "from sklearn.neighbors import KNeighborsRegressor\n",
    "from sklearn.tree import DecisionTreeRegressor\n",
    "from sklearn.ensemble import RandomForestRegressor\n",
    "from sklearn.ensemble import GradientBoostingRegressor\n",
    "from sklearn.svm import SVR\n",
    "\n",
    "from sklearn.preprocessing import StandardScaler\n",
    "from sklearn.compose import make_column_transformer\n",
    "from sklearn.preprocessing import OneHotEncoder\n",
    "from sklearn.pipeline import make_pipeline"
   ]
  },
  {
   "cell_type": "code",
   "execution_count": 2,
   "id": "0e85465c",
   "metadata": {},
   "outputs": [],
   "source": [
    "%store -r clean_laptop_data"
   ]
  },
  {
   "cell_type": "code",
   "execution_count": 3,
   "id": "7c17f951",
   "metadata": {},
   "outputs": [
    {
     "data": {
      "text/html": [
       "<div>\n",
       "<style scoped>\n",
       "    .dataframe tbody tr th:only-of-type {\n",
       "        vertical-align: middle;\n",
       "    }\n",
       "\n",
       "    .dataframe tbody tr th {\n",
       "        vertical-align: top;\n",
       "    }\n",
       "\n",
       "    .dataframe thead th {\n",
       "        text-align: right;\n",
       "    }\n",
       "</style>\n",
       "<table border=\"1\" class=\"dataframe\">\n",
       "  <thead>\n",
       "    <tr style=\"text-align: right;\">\n",
       "      <th></th>\n",
       "      <th>Company</th>\n",
       "      <th>TypeName</th>\n",
       "      <th>Inches</th>\n",
       "      <th>Ram</th>\n",
       "      <th>OpSys</th>\n",
       "      <th>Weight_lb</th>\n",
       "      <th>$Price</th>\n",
       "      <th>TouchScreen</th>\n",
       "      <th>IPS</th>\n",
       "      <th>ppi</th>\n",
       "      <th>Cpu processor</th>\n",
       "      <th>Processor_speed_GHz</th>\n",
       "      <th>HDD</th>\n",
       "      <th>SSD</th>\n",
       "    </tr>\n",
       "  </thead>\n",
       "  <tbody>\n",
       "    <tr>\n",
       "      <th>0</th>\n",
       "      <td>Apple</td>\n",
       "      <td>Ultrabook</td>\n",
       "      <td>13.3</td>\n",
       "      <td>8</td>\n",
       "      <td>No OS</td>\n",
       "      <td>3.02085</td>\n",
       "      <td>1527.25</td>\n",
       "      <td>0</td>\n",
       "      <td>1</td>\n",
       "      <td>3018.873962</td>\n",
       "      <td>Intel Processor</td>\n",
       "      <td>2.3</td>\n",
       "      <td>0</td>\n",
       "      <td>128</td>\n",
       "    </tr>\n",
       "    <tr>\n",
       "      <th>1</th>\n",
       "      <td>Apple</td>\n",
       "      <td>Ultrabook</td>\n",
       "      <td>13.3</td>\n",
       "      <td>8</td>\n",
       "      <td>No OS</td>\n",
       "      <td>2.95470</td>\n",
       "      <td>1024.79</td>\n",
       "      <td>0</td>\n",
       "      <td>0</td>\n",
       "      <td>1698.116604</td>\n",
       "      <td>Intel Processor</td>\n",
       "      <td>1.8</td>\n",
       "      <td>0</td>\n",
       "      <td>0</td>\n",
       "    </tr>\n",
       "    <tr>\n",
       "      <th>2</th>\n",
       "      <td>HP</td>\n",
       "      <td>Notebook</td>\n",
       "      <td>15.6</td>\n",
       "      <td>8</td>\n",
       "      <td>No OS</td>\n",
       "      <td>4.10130</td>\n",
       "      <td>655.50</td>\n",
       "      <td>0</td>\n",
       "      <td>0</td>\n",
       "      <td>2202.907170</td>\n",
       "      <td>Intel Processor</td>\n",
       "      <td>2.5</td>\n",
       "      <td>0</td>\n",
       "      <td>256</td>\n",
       "    </tr>\n",
       "    <tr>\n",
       "      <th>3</th>\n",
       "      <td>Apple</td>\n",
       "      <td>Ultrabook</td>\n",
       "      <td>15.4</td>\n",
       "      <td>16</td>\n",
       "      <td>No OS</td>\n",
       "      <td>4.03515</td>\n",
       "      <td>2892.69</td>\n",
       "      <td>0</td>\n",
       "      <td>1</td>\n",
       "      <td>3396.233208</td>\n",
       "      <td>Intel Processor</td>\n",
       "      <td>2.7</td>\n",
       "      <td>0</td>\n",
       "      <td>512</td>\n",
       "    </tr>\n",
       "    <tr>\n",
       "      <th>4</th>\n",
       "      <td>Apple</td>\n",
       "      <td>Ultrabook</td>\n",
       "      <td>13.3</td>\n",
       "      <td>8</td>\n",
       "      <td>No OS</td>\n",
       "      <td>3.02085</td>\n",
       "      <td>2056.10</td>\n",
       "      <td>0</td>\n",
       "      <td>1</td>\n",
       "      <td>3018.873962</td>\n",
       "      <td>Intel Processor</td>\n",
       "      <td>3.1</td>\n",
       "      <td>0</td>\n",
       "      <td>256</td>\n",
       "    </tr>\n",
       "  </tbody>\n",
       "</table>\n",
       "</div>"
      ],
      "text/plain": [
       "  Company   TypeName  Inches  Ram  OpSys  Weight_lb   $Price  TouchScreen  \\\n",
       "0   Apple  Ultrabook    13.3    8  No OS    3.02085  1527.25            0   \n",
       "1   Apple  Ultrabook    13.3    8  No OS    2.95470  1024.79            0   \n",
       "2      HP   Notebook    15.6    8  No OS    4.10130   655.50            0   \n",
       "3   Apple  Ultrabook    15.4   16  No OS    4.03515  2892.69            0   \n",
       "4   Apple  Ultrabook    13.3    8  No OS    3.02085  2056.10            0   \n",
       "\n",
       "   IPS          ppi    Cpu processor Processor_speed_GHz  HDD  SSD  \n",
       "0    1  3018.873962  Intel Processor                 2.3    0  128  \n",
       "1    0  1698.116604  Intel Processor                 1.8    0    0  \n",
       "2    0  2202.907170  Intel Processor                 2.5    0  256  \n",
       "3    1  3396.233208  Intel Processor                 2.7    0  512  \n",
       "4    1  3018.873962  Intel Processor                 3.1    0  256  "
      ]
     },
     "execution_count": 3,
     "metadata": {},
     "output_type": "execute_result"
    }
   ],
   "source": [
    "clean_laptop_data.head()"
   ]
  },
  {
   "cell_type": "code",
   "execution_count": 4,
   "id": "9030d13c",
   "metadata": {},
   "outputs": [
    {
     "data": {
      "text/plain": [
       "Notebook              752\n",
       "Gaming                205\n",
       "Ultrabook             196\n",
       "2 in 1 Convertible    121\n",
       "Workstation            29\n",
       "Name: TypeName, dtype: int64"
      ]
     },
     "execution_count": 4,
     "metadata": {},
     "output_type": "execute_result"
    }
   ],
   "source": [
    "clean_laptop_data[\"TypeName\"].value_counts()"
   ]
  },
  {
   "cell_type": "code",
   "execution_count": 5,
   "id": "fe75fbe4",
   "metadata": {},
   "outputs": [
    {
     "data": {
      "text/plain": [
       "Intel Processor    1240\n",
       "AMD Processor        63\n",
       "Name: Cpu processor, dtype: int64"
      ]
     },
     "execution_count": 5,
     "metadata": {},
     "output_type": "execute_result"
    }
   ],
   "source": [
    "clean_laptop_data['Cpu processor'].value_counts()"
   ]
  },
  {
   "cell_type": "code",
   "execution_count": 6,
   "id": "a71cb609",
   "metadata": {},
   "outputs": [
    {
     "data": {
      "text/plain": [
       "(1303, 14)"
      ]
     },
     "execution_count": 6,
     "metadata": {},
     "output_type": "execute_result"
    }
   ],
   "source": [
    "clean_laptop_data.shape"
   ]
  },
  {
   "cell_type": "code",
   "execution_count": 7,
   "id": "86c289b5",
   "metadata": {},
   "outputs": [],
   "source": [
    "clean_laptop_data['ppi'] = clean_laptop_data['ppi'].astype('int')\n",
    "clean_laptop_data['Processor_speed_GHz'] = clean_laptop_data['Processor_speed_GHz'].astype('float')"
   ]
  },
  {
   "cell_type": "markdown",
   "id": "55a54725",
   "metadata": {},
   "source": [
    "# Spliting the Data"
   ]
  },
  {
   "cell_type": "markdown",
   "id": "cbf8e78e",
   "metadata": {},
   "source": [
    "Standardization should be done after splitting the data between training and test set, using only the data from the training set.\n",
    "\n",
    "This is because the test set plays the role of fresh unseen data, so it's not supposed to be accessible at the training stage. Using any information coming from the test set before or during training is a potential bias in the evaluation of the performance.\n",
    "\n",
    "So, To avoid data leakage, we are following a hierarchy."
   ]
  },
  {
   "cell_type": "code",
   "execution_count": 8,
   "id": "4658ffec",
   "metadata": {},
   "outputs": [],
   "source": [
    "X = clean_laptop_data.drop(['$Price'], axis=1)\n",
    "y = clean_laptop_data['$Price']"
   ]
  },
  {
   "cell_type": "code",
   "execution_count": 9,
   "id": "9e2ab713",
   "metadata": {},
   "outputs": [],
   "source": [
    "from sklearn.model_selection import train_test_split\n",
    "X_train, X_test, y_train, y_test = train_test_split(X, y, test_size=0.30, random_state=123)"
   ]
  },
  {
   "cell_type": "code",
   "execution_count": 10,
   "id": "10b4b1cd",
   "metadata": {},
   "outputs": [
    {
     "data": {
      "text/html": [
       "<div>\n",
       "<style scoped>\n",
       "    .dataframe tbody tr th:only-of-type {\n",
       "        vertical-align: middle;\n",
       "    }\n",
       "\n",
       "    .dataframe tbody tr th {\n",
       "        vertical-align: top;\n",
       "    }\n",
       "\n",
       "    .dataframe thead th {\n",
       "        text-align: right;\n",
       "    }\n",
       "</style>\n",
       "<table border=\"1\" class=\"dataframe\">\n",
       "  <thead>\n",
       "    <tr style=\"text-align: right;\">\n",
       "      <th></th>\n",
       "      <th>Company</th>\n",
       "      <th>TypeName</th>\n",
       "      <th>Inches</th>\n",
       "      <th>Ram</th>\n",
       "      <th>OpSys</th>\n",
       "      <th>Weight_lb</th>\n",
       "      <th>TouchScreen</th>\n",
       "      <th>IPS</th>\n",
       "      <th>ppi</th>\n",
       "      <th>Cpu processor</th>\n",
       "      <th>Processor_speed_GHz</th>\n",
       "      <th>HDD</th>\n",
       "      <th>SSD</th>\n",
       "    </tr>\n",
       "  </thead>\n",
       "  <tbody>\n",
       "    <tr>\n",
       "      <th>305</th>\n",
       "      <td>Lenovo</td>\n",
       "      <td>Notebook</td>\n",
       "      <td>15.6</td>\n",
       "      <td>4</td>\n",
       "      <td>No OS</td>\n",
       "      <td>4.85100</td>\n",
       "      <td>0</td>\n",
       "      <td>0</td>\n",
       "      <td>1567</td>\n",
       "      <td>Intel Processor</td>\n",
       "      <td>1.1</td>\n",
       "      <td>1000</td>\n",
       "      <td>0</td>\n",
       "    </tr>\n",
       "    <tr>\n",
       "      <th>957</th>\n",
       "      <td>HP</td>\n",
       "      <td>2 in 1 Convertible</td>\n",
       "      <td>11.6</td>\n",
       "      <td>4</td>\n",
       "      <td>Windows</td>\n",
       "      <td>3.19725</td>\n",
       "      <td>1</td>\n",
       "      <td>0</td>\n",
       "      <td>1567</td>\n",
       "      <td>Intel Processor</td>\n",
       "      <td>1.1</td>\n",
       "      <td>0</td>\n",
       "      <td>256</td>\n",
       "    </tr>\n",
       "    <tr>\n",
       "      <th>1190</th>\n",
       "      <td>Lenovo</td>\n",
       "      <td>Gaming</td>\n",
       "      <td>15.6</td>\n",
       "      <td>8</td>\n",
       "      <td>Windows</td>\n",
       "      <td>5.29200</td>\n",
       "      <td>0</td>\n",
       "      <td>1</td>\n",
       "      <td>2202</td>\n",
       "      <td>Intel Processor</td>\n",
       "      <td>2.5</td>\n",
       "      <td>1000</td>\n",
       "      <td>0</td>\n",
       "    </tr>\n",
       "    <tr>\n",
       "      <th>839</th>\n",
       "      <td>Asus</td>\n",
       "      <td>Notebook</td>\n",
       "      <td>15.6</td>\n",
       "      <td>8</td>\n",
       "      <td>Windows</td>\n",
       "      <td>5.07150</td>\n",
       "      <td>0</td>\n",
       "      <td>0</td>\n",
       "      <td>2202</td>\n",
       "      <td>Intel Processor</td>\n",
       "      <td>2.5</td>\n",
       "      <td>128</td>\n",
       "      <td>0</td>\n",
       "    </tr>\n",
       "    <tr>\n",
       "      <th>392</th>\n",
       "      <td>Acer</td>\n",
       "      <td>Notebook</td>\n",
       "      <td>15.6</td>\n",
       "      <td>12</td>\n",
       "      <td>Windows</td>\n",
       "      <td>4.85100</td>\n",
       "      <td>0</td>\n",
       "      <td>1</td>\n",
       "      <td>1567</td>\n",
       "      <td>Intel Processor</td>\n",
       "      <td>1.6</td>\n",
       "      <td>1000</td>\n",
       "      <td>0</td>\n",
       "    </tr>\n",
       "  </tbody>\n",
       "</table>\n",
       "</div>"
      ],
      "text/plain": [
       "     Company            TypeName  Inches  Ram    OpSys  Weight_lb  \\\n",
       "305   Lenovo            Notebook    15.6    4    No OS    4.85100   \n",
       "957       HP  2 in 1 Convertible    11.6    4  Windows    3.19725   \n",
       "1190  Lenovo              Gaming    15.6    8  Windows    5.29200   \n",
       "839     Asus            Notebook    15.6    8  Windows    5.07150   \n",
       "392     Acer            Notebook    15.6   12  Windows    4.85100   \n",
       "\n",
       "      TouchScreen  IPS   ppi    Cpu processor  Processor_speed_GHz   HDD  SSD  \n",
       "305             0    0  1567  Intel Processor                  1.1  1000    0  \n",
       "957             1    0  1567  Intel Processor                  1.1     0  256  \n",
       "1190            0    1  2202  Intel Processor                  2.5  1000    0  \n",
       "839             0    0  2202  Intel Processor                  2.5   128    0  \n",
       "392             0    1  1567  Intel Processor                  1.6  1000    0  "
      ]
     },
     "execution_count": 10,
     "metadata": {},
     "output_type": "execute_result"
    }
   ],
   "source": [
    "X_train.head()"
   ]
  },
  {
   "cell_type": "code",
   "execution_count": 11,
   "id": "55b6dda8",
   "metadata": {},
   "outputs": [
    {
     "name": "stdout",
     "output_type": "stream",
     "text": [
      "<class 'pandas.core.frame.DataFrame'>\n",
      "Int64Index: 912 entries, 305 to 1122\n",
      "Data columns (total 13 columns):\n",
      " #   Column               Non-Null Count  Dtype  \n",
      "---  ------               --------------  -----  \n",
      " 0   Company              912 non-null    object \n",
      " 1   TypeName             912 non-null    object \n",
      " 2   Inches               912 non-null    float64\n",
      " 3   Ram                  912 non-null    int32  \n",
      " 4   OpSys                912 non-null    object \n",
      " 5   Weight_lb            912 non-null    float32\n",
      " 6   TouchScreen          912 non-null    int64  \n",
      " 7   IPS                  912 non-null    int64  \n",
      " 8   ppi                  912 non-null    int32  \n",
      " 9   Cpu processor        912 non-null    object \n",
      " 10  Processor_speed_GHz  912 non-null    float64\n",
      " 11  HDD                  912 non-null    int32  \n",
      " 12  SSD                  912 non-null    int32  \n",
      "dtypes: float32(1), float64(2), int32(4), int64(2), object(4)\n",
      "memory usage: 81.9+ KB\n"
     ]
    }
   ],
   "source": [
    "X_train.info()"
   ]
  },
  {
   "cell_type": "markdown",
   "id": "e69b0a9e",
   "metadata": {},
   "source": [
    "ColumnTransformer allows different columns to be transformed separately and the features generated by each transformer will be concatenated to form a single feature space.\n",
    "\n",
    "A machine learning pipeline is used to help automate machine learning workflows. They operate by enabling a sequence of data to be transformed and correlated together in a model that can be tested and evaluated to achieve an outcome, whether positive or negative.\n",
    "\n",
    "So, We create a pipeline for each feature, and perform some methods\n",
    "1.One hot encoding - a process of converting categorical data variables so they can be provided to machine learning algorithms to improve predictions.\n",
    "2.StandardScaler -  the mean and scales each feature/variable to unit variance. This operation is performed feature-wise in an independent way. (z = (x-μ)/σ) Here, Mean (μ)=0 and standard deviation (σ)=1\n",
    "3.Regression Model"
   ]
  },
  {
   "cell_type": "markdown",
   "id": "dbeef30d",
   "metadata": {},
   "source": [
    "# Linear Regression"
   ]
  },
  {
   "cell_type": "code",
   "execution_count": 12,
   "id": "687ea779",
   "metadata": {},
   "outputs": [
    {
     "name": "stdout",
     "output_type": "stream",
     "text": [
      "R2 Score:  0.807928915500379\n",
      "Mean Absolute Error:  280.6322882661788\n"
     ]
    }
   ],
   "source": [
    "lr_transformer = make_column_transformer((OneHotEncoder(drop='first'), [\"Company\", \"TypeName\",\"OpSys\", \"Cpu processor\"]),\n",
    "                                    remainder='passthrough')\n",
    "\n",
    "scaler = StandardScaler()\n",
    "\n",
    "lr_model = LinearRegression()\n",
    "\n",
    "pipeline = make_pipeline(lr_transformer, scaler, lr_model)\n",
    "\n",
    "pipeline.fit(X_train, y_train)\n",
    "\n",
    "y_pred = pipeline.predict(X_test)\n",
    "\n",
    "print('R2 Score: ', r2_score(y_test, y_pred))\n",
    "print('Mean Absolute Error: ', mean_absolute_error(y_test, y_pred))"
   ]
  },
  {
   "cell_type": "markdown",
   "id": "cb3ec57b",
   "metadata": {},
   "source": [
    "# Ridge Regression"
   ]
  },
  {
   "cell_type": "code",
   "execution_count": 13,
   "id": "c8b352fe",
   "metadata": {},
   "outputs": [
    {
     "name": "stdout",
     "output_type": "stream",
     "text": [
      "R2 Score:  0.8080354554384388\n",
      "Mean Absolute Error:  280.445481933874\n"
     ]
    }
   ],
   "source": [
    "ridge_transformer = make_column_transformer((OneHotEncoder(drop='first'), [\"Company\", \"TypeName\",\"OpSys\", \"Cpu processor\"]),\n",
    "                                    remainder='passthrough')\n",
    "\n",
    "scaler = StandardScaler()\n",
    "\n",
    "ridge_model = linear_model.Ridge(alpha=10)\n",
    "\n",
    "pipeline = make_pipeline(ridge_transformer, scaler, ridge_model)\n",
    "\n",
    "pipeline.fit(X_train, y_train)\n",
    "\n",
    "y_pred = pipeline.predict(X_test)\n",
    "\n",
    "print('R2 Score: ', r2_score(y_test, y_pred))\n",
    "print('Mean Absolute Error: ', mean_absolute_error(y_test, y_pred))"
   ]
  },
  {
   "cell_type": "markdown",
   "id": "0851e1f2",
   "metadata": {},
   "source": [
    "# Lasso Regression"
   ]
  },
  {
   "cell_type": "code",
   "execution_count": 14,
   "id": "3e70bf6f",
   "metadata": {},
   "outputs": [
    {
     "name": "stdout",
     "output_type": "stream",
     "text": [
      "R2 Score:  0.8030199238955009\n",
      "Mean Absolute Error:  286.17175644425015\n"
     ]
    }
   ],
   "source": [
    "lasso_transformer = make_column_transformer((OneHotEncoder(drop='first'), [\"Company\", \"TypeName\",\"OpSys\", \"Cpu processor\"]),\n",
    "                                    remainder='passthrough')\n",
    "\n",
    "scaler = StandardScaler()\n",
    "\n",
    "lasso_model = linear_model.Lasso(alpha=10)\n",
    "\n",
    "pipeline = make_pipeline(lasso_transformer, scaler, lasso_model)\n",
    "\n",
    "pipeline.fit(X_train, y_train)\n",
    "\n",
    "y_pred = pipeline.predict(X_test)\n",
    "\n",
    "print('R2 Score: ', r2_score(y_test, y_pred))\n",
    "print('Mean Absolute Error: ', mean_absolute_error(y_test, y_pred))"
   ]
  },
  {
   "cell_type": "markdown",
   "id": "a8db2493",
   "metadata": {},
   "source": [
    "# K-Nearest Neighbor (KNN)"
   ]
  },
  {
   "cell_type": "code",
   "execution_count": 15,
   "id": "d49f90b0",
   "metadata": {},
   "outputs": [
    {
     "name": "stdout",
     "output_type": "stream",
     "text": [
      "R2 Score:  0.7960828859671851\n",
      "Mean Absolute Error:  263.0907800511509\n"
     ]
    }
   ],
   "source": [
    "knn_transformer = make_column_transformer((OneHotEncoder(drop='first'), [\"Company\", \"TypeName\",\"OpSys\", \"Cpu processor\"]),\n",
    "                                    remainder='passthrough')\n",
    "\n",
    "scaler = StandardScaler()\n",
    "\n",
    "knn_model = KNeighborsRegressor(n_neighbors=2)\n",
    "\n",
    "pipeline = make_pipeline(knn_transformer, scaler, knn_model)\n",
    "\n",
    "pipeline.fit(X_train, y_train)\n",
    "\n",
    "y_pred = pipeline.predict(X_test)\n",
    "\n",
    "print('R2 Score: ', r2_score(y_test, y_pred))\n",
    "print('Mean Absolute Error: ', mean_absolute_error(y_test, y_pred))"
   ]
  },
  {
   "cell_type": "markdown",
   "id": "8e0f298a",
   "metadata": {},
   "source": [
    "# Decision Trees"
   ]
  },
  {
   "cell_type": "code",
   "execution_count": 16,
   "id": "22c6fb10",
   "metadata": {},
   "outputs": [
    {
     "name": "stdout",
     "output_type": "stream",
     "text": [
      "R2 Score:  0.7770206902279192\n",
      "Mean Absolute Error:  275.9008424642219\n"
     ]
    }
   ],
   "source": [
    "decTree_transformer = make_column_transformer((OneHotEncoder(drop='first'), [\"Company\", \"TypeName\",\"OpSys\", \"Cpu processor\"]),\n",
    "                                    remainder='passthrough')\n",
    "\n",
    "scaler = StandardScaler()\n",
    "\n",
    "decTree_model = DecisionTreeRegressor(max_depth=6, random_state=100)\n",
    "\n",
    "pipeline = make_pipeline(decTree_transformer, scaler, decTree_model)\n",
    "\n",
    "pipeline.fit(X_train, y_train)\n",
    "\n",
    "y_pred = pipeline.predict(X_test)\n",
    "\n",
    "print('R2 Score: ', r2_score(y_test, y_pred))\n",
    "print('Mean Absolute Error: ', mean_absolute_error(y_test, y_pred))"
   ]
  },
  {
   "cell_type": "markdown",
   "id": "e1aa6c12",
   "metadata": {},
   "source": [
    "# Random Forest"
   ]
  },
  {
   "cell_type": "code",
   "execution_count": 17,
   "id": "74a69450",
   "metadata": {},
   "outputs": [
    {
     "name": "stdout",
     "output_type": "stream",
     "text": [
      "R2 Score:  0.858066723319506\n",
      "Mean Absolute Error:  215.27560815122186\n"
     ]
    }
   ],
   "source": [
    "randFor_transformer = make_column_transformer((OneHotEncoder(drop='first'), [\"Company\", \"TypeName\",\"OpSys\", \"Cpu processor\"]),\n",
    "                                    remainder='passthrough')\n",
    "\n",
    "scaler = StandardScaler()\n",
    "\n",
    "randFor_model = RandomForestRegressor(n_estimators=100,  max_depth=16, max_samples=0.6, random_state=10)\n",
    "\n",
    "pipeline = make_pipeline(randFor_transformer, scaler, randFor_model)\n",
    "\n",
    "pipeline.fit(X_train, y_train)\n",
    "\n",
    "y_pred = pipeline.predict(X_test)\n",
    "\n",
    "print('R2 Score: ', r2_score(y_test, y_pred))\n",
    "print('Mean Absolute Error: ', mean_absolute_error(y_test, y_pred))"
   ]
  },
  {
   "cell_type": "markdown",
   "id": "860931c0",
   "metadata": {},
   "source": [
    "# Gradient Boosting"
   ]
  },
  {
   "cell_type": "code",
   "execution_count": 18,
   "id": "66dbb375",
   "metadata": {},
   "outputs": [
    {
     "name": "stdout",
     "output_type": "stream",
     "text": [
      "R2 Score:  0.8706770843269181\n",
      "Mean Absolute Error:  211.8403342057106\n"
     ]
    }
   ],
   "source": [
    "gradBoost_transformer = make_column_transformer((OneHotEncoder(drop='first'), [\"Company\", \"TypeName\",\"OpSys\", \"Cpu processor\"]),\n",
    "                                    remainder='passthrough')\n",
    "\n",
    "scaler = StandardScaler()\n",
    "\n",
    "gradBoost_model = GradientBoostingRegressor(n_estimators=500, learning_rate=0.1)\n",
    "\n",
    "pipeline = make_pipeline(gradBoost_transformer, scaler, gradBoost_model)\n",
    "\n",
    "pipeline.fit(X_train, y_train)\n",
    "\n",
    "y_pred = pipeline.predict(X_test)\n",
    "\n",
    "print('R2 Score: ', r2_score(y_test, y_pred))\n",
    "print('Mean Absolute Error: ', mean_absolute_error(y_test, y_pred))"
   ]
  },
  {
   "cell_type": "markdown",
   "id": "bdca8c5b",
   "metadata": {},
   "source": [
    "# Support Vector Regression"
   ]
  },
  {
   "cell_type": "code",
   "execution_count": 19,
   "id": "c33a248b",
   "metadata": {},
   "outputs": [
    {
     "name": "stdout",
     "output_type": "stream",
     "text": [
      "R2 Score:  0.870997166055901\n",
      "Mean Absolute Error:  212.1423942973648\n"
     ]
    }
   ],
   "source": [
    "svm_transformer = make_column_transformer((OneHotEncoder(drop='first'), [\"Company\", \"TypeName\",\"OpSys\", \"Cpu processor\"]),\n",
    "                                    remainder='passthrough')\n",
    "\n",
    "scaler = StandardScaler()\n",
    "\n",
    "svm_model = SVR()\n",
    "\n",
    "pipeline = make_pipeline(gradBoost_transformer, scaler, gradBoost_model)\n",
    "\n",
    "pipeline.fit(X_train, y_train)\n",
    "\n",
    "y_pred = pipeline.predict(X_test)\n",
    "\n",
    "print('R2 Score: ', r2_score(y_test, y_pred))\n",
    "print('Mean Absolute Error: ', mean_absolute_error(y_test, y_pred))"
   ]
  }
 ],
 "metadata": {
  "kernelspec": {
   "display_name": "Python 3 (ipykernel)",
   "language": "python",
   "name": "python3"
  },
  "language_info": {
   "codemirror_mode": {
    "name": "ipython",
    "version": 3
   },
   "file_extension": ".py",
   "mimetype": "text/x-python",
   "name": "python",
   "nbconvert_exporter": "python",
   "pygments_lexer": "ipython3",
   "version": "3.9.7"
  }
 },
 "nbformat": 4,
 "nbformat_minor": 5
}
